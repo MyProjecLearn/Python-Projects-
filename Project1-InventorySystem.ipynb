{
 "cells": [
  {
   "cell_type": "markdown",
   "id": "cf4350f0-4057-4646-8e40-57d23559ec73",
   "metadata": {},
   "source": [
    "# Project 1: Inventory Management System for an Indian Grocery Store"
   ]
  },
  {
   "cell_type": "markdown",
   "id": "3f68a18d-3779-4519-ad16-a06df55bec2a",
   "metadata": {},
   "source": [
    "**Objective:** The objective of this mini-project is to create an efficient Inventory Management System\n",
    "(IMS) for a traditional Indian grocery store. This system will help the store owner keep track of their\n",
    "inventory, manage stock levels, and generate reports for informed decision-making.\n",
    "\n",
    "**Background:** In India, traditional grocery stores play a crucial role in serving the daily needs of\n",
    "consumers. These stores carry a wide range of products, including grains, spices, dairy, and more. To\n",
    "remain competitive and ensure customer satisfaction, it is essential for store owners to maintain an\n",
    "accurate inventory and manage stock effectively"
   ]
  },
  {
   "cell_type": "markdown",
   "id": "a422e450-dae7-42bd-b80c-67d60c281b49",
   "metadata": {},
   "source": [
    "## 1. Accept iteam input for inventory item name, item ID, item quantity, item cost, iteam selling price"
   ]
  },
  {
   "cell_type": "code",
   "execution_count": null,
   "id": "d8c7fccc-5690-42aa-8eb5-69abe85ef17d",
   "metadata": {},
   "outputs": [],
   "source": [
    "item_name = input(\"Enter item name: \")\n",
    "item_ID = input(\"Enter item ID: \")\n",
    "item_quantity = int(input(\"Enter item quantity: \"))\n",
    "item_cost = float(input(\"Enter item cost: $\"))\n",
    "item_selling_price = float(input(\"Enter item selling price: $\"))"
   ]
  },
  {
   "cell_type": "code",
   "execution_count": null,
   "id": "567edb38-f6f3-4af5-b9ff-c53335852b7a",
   "metadata": {},
   "outputs": [],
   "source": [
    "### Integrated Inventory Management System\n",
    "inventory = []\n",
    "\n",
    "def add_item_to_inventory():\n",
    "    item_name = input(\"Enter item name: \")\n",
    "    item_ID = input(\"Enter item ID: \")\n",
    "    item_quantity = int(input(\"Enter item quantity: \"))\n",
    "    item_cost = float(input(\"Enter item cost: $\"))\n",
    "    item_selling_price = float(input(\"Enter item selling price: $\"))\n",
    "    \n",
    "    item = {\n",
    "        \"Name\": item_name,\n",
    "        \"ID\": item_ID,\n",
    "        \"Quantity\": item_quantity,\n",
    "        \"Cost\": item_cost,\n",
    "        \"Selling Price\": item_selling_price\n",
    "    }\n",
    "    inventory.append(item)\n",
    "    print(f\"Item {item_name} added successfully!\")\n",
    "\n",
    "# Main Execution\n",
    "while True:\n",
    "    print(\"\\n=== Inventory Management System ===\")\n",
    "    print(\"1. Add Item\")\n",
    "    print(\"2. View Inventory\")\n",
    "    print(\"3. Exit\")\n",
    "    choice = input(\"Choose an option: \")\n",
    "    \n",
    "    if choice == \"1\":\n",
    "        add_item_to_inventory()\n",
    "    elif choice == \"2\":\n",
    "        print(\"\\nCurrent Inventory:\")\n",
    "        for idx, item in enumerate(inventory, start=1):\n",
    "            print(f\"{idx}. {item}\")\n",
    "    elif choice == \"3\":\n",
    "        print(\"Exiting the system. Goodbye!\")\n",
    "        break\n",
    "    else:\n",
    "        print(\"Invalid choice. Please try again.\")"
   ]
  },
  {
   "cell_type": "markdown",
   "id": "46eebe5c-e301-4795-b45f-41bd7e49bb64",
   "metadata": {},
   "source": [
    "## Store the added items to the inventory"
   ]
  },
  {
   "cell_type": "code",
   "execution_count": null,
   "id": "ac900a3d-c7b2-4390-98d0-b672e0a288fd",
   "metadata": {},
   "outputs": [],
   "source": []
  }
 ],
 "metadata": {
  "kernelspec": {
   "display_name": "Python 3 (ipykernel)",
   "language": "python",
   "name": "python3"
  },
  "language_info": {
   "codemirror_mode": {
    "name": "ipython",
    "version": 3
   },
   "file_extension": ".py",
   "mimetype": "text/x-python",
   "name": "python",
   "nbconvert_exporter": "python",
   "pygments_lexer": "ipython3",
   "version": "3.12.7"
  }
 },
 "nbformat": 4,
 "nbformat_minor": 5
}
