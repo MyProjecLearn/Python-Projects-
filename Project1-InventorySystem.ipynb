{
 "cells": [
  {
   "cell_type": "markdown",
   "id": "cf4350f0-4057-4646-8e40-57d23559ec73",
   "metadata": {},
   "source": [
    "# Project 1: Inventory Management System for an Indian Grocery Store"
   ]
  },
  {
   "cell_type": "markdown",
   "id": "3f68a18d-3779-4519-ad16-a06df55bec2a",
   "metadata": {},
   "source": [
    "**Objective:** The objective of this mini-project is to create an efficient Inventory Management System\n",
    "(IMS) for a traditional Indian grocery store. This system will help the store owner keep track of their\n",
    "inventory, manage stock levels, and generate reports for informed decision-making.\n",
    "\n",
    "**Background:** In India, traditional grocery stores play a crucial role in serving the daily needs of\n",
    "consumers. These stores carry a wide range of products, including grains, spices, dairy, and more. To\n",
    "remain competitive and ensure customer satisfaction, it is essential for store owners to maintain an\n",
    "accurate inventory and manage stock effectively"
   ]
  },
  {
   "cell_type": "markdown",
   "id": "a422e450-dae7-42bd-b80c-67d60c281b49",
   "metadata": {},
   "source": [
    "## 1. Accept iteam input for inventory item name, item ID, item quantity, item cost, iteam selling price"
   ]
  },
  {
   "cell_type": "code",
   "execution_count": null,
   "id": "d8c7fccc-5690-42aa-8eb5-69abe85ef17d",
   "metadata": {},
   "outputs": [],
   "source": [
    "def input_data():\n",
    "    item_name = input(\"Enter item name: \")\n",
    "    item_ID = input(\"Enter item ID: \")\n",
    "    item_quantity = int(input(\"Enter item quantity: \"))\n",
    "    item_cost = float(input(\"Enter item cost: $\"))\n",
    "    item_selling_price = float(input(\"Enter item selling price: $\"))\n",
    "    return None"
   ]
  },
  {
   "cell_type": "code",
   "execution_count": null,
   "id": "f24585b1-43fd-4c8f-b47b-0fae19526297",
   "metadata": {},
   "outputs": [],
   "source": [
    "item_list = []"
   ]
  },
  {
   "cell_type": "markdown",
   "id": "48b31e10-ae1c-41c0-9166-f288fbc84c8a",
   "metadata": {},
   "source": [
    "## Making it Dynamic"
   ]
  },
  {
   "cell_type": "code",
   "execution_count": null,
   "id": "ac900a3d-c7b2-4390-98d0-b672e0a288fd",
   "metadata": {
    "scrolled": true
   },
   "outputs": [],
   "source": [
    "item_dict = {\"Name\": {item_name},\n",
    "             \"ID\": {item_ID},\n",
    "             \"Quantity\": {item_quantity},\n",
    "             \"Cost\": {item_cost},\n",
    "             \"Selling Price\": {item_selling_price}\n",
    "            }"
   ]
  },
  {
   "cell_type": "code",
   "execution_count": null,
   "id": "14d3443a-152a-4281-bdab-a36fd79ff801",
   "metadata": {},
   "outputs": [],
   "source": [
    "item_list.append(item_dict)"
   ]
  },
  {
   "cell_type": "code",
   "execution_count": 3,
   "id": "6a3a4f8a-a678-4a0f-8b1b-641280d9a6f8",
   "metadata": {},
   "outputs": [
    {
     "name": "stdout",
     "output_type": "stream",
     "text": [
      "\n",
      "Inventory Management System\n",
      "1. Add new item\n",
      "2. Display inventory\n",
      "3. Calculate total value\n",
      "4. Exit\n"
     ]
    },
    {
     "name": "stdin",
     "output_type": "stream",
     "text": [
      "Enter your choice:  2\n"
     ]
    },
    {
     "name": "stdout",
     "output_type": "stream",
     "text": [
      "Inventory is empty.\n",
      "\n",
      "Inventory Management System\n",
      "1. Add new item\n",
      "2. Display inventory\n",
      "3. Calculate total value\n",
      "4. Exit\n"
     ]
    },
    {
     "name": "stdin",
     "output_type": "stream",
     "text": [
      "Enter your choice:  Clove\n"
     ]
    },
    {
     "name": "stdout",
     "output_type": "stream",
     "text": [
      "Invalid choice. Please try again.\n",
      "\n",
      "Inventory Management System\n",
      "1. Add new item\n",
      "2. Display inventory\n",
      "3. Calculate total value\n",
      "4. Exit\n"
     ]
    },
    {
     "name": "stdin",
     "output_type": "stream",
     "text": [
      "Enter your choice:  2230\n"
     ]
    },
    {
     "name": "stdout",
     "output_type": "stream",
     "text": [
      "Invalid choice. Please try again.\n",
      "\n",
      "Inventory Management System\n",
      "1. Add new item\n",
      "2. Display inventory\n",
      "3. Calculate total value\n",
      "4. Exit\n"
     ]
    },
    {
     "name": "stdin",
     "output_type": "stream",
     "text": [
      "Enter your choice:  1\n",
      "Enter item name:  Clove\n",
      "Enter item ID:  2230\n",
      "Enter item quantity:  1\n",
      "Enter item cost: $ 8.99\n",
      "Enter item selling price: $ 12.99\n"
     ]
    },
    {
     "name": "stdout",
     "output_type": "stream",
     "text": [
      "Item added successfully!\n",
      "\n",
      "Inventory Management System\n",
      "1. Add new item\n",
      "2. Display inventory\n",
      "3. Calculate total value\n",
      "4. Exit\n"
     ]
    },
    {
     "name": "stdin",
     "output_type": "stream",
     "text": [
      "Enter your choice:  1\n",
      "Enter item name:  Cumin seeds\n",
      "Enter item ID:  1\n",
      "Enter item quantity:  1\n",
      "Enter item cost: $ 4.89\n",
      "Enter item selling price: $ 6.99\n"
     ]
    },
    {
     "name": "stdout",
     "output_type": "stream",
     "text": [
      "Item added successfully!\n",
      "\n",
      "Inventory Management System\n",
      "1. Add new item\n",
      "2. Display inventory\n",
      "3. Calculate total value\n",
      "4. Exit\n"
     ]
    },
    {
     "name": "stdin",
     "output_type": "stream",
     "text": [
      "Enter your choice:  3\n"
     ]
    },
    {
     "name": "stdout",
     "output_type": "stream",
     "text": [
      "\n",
      "Total inventory value: $13.88\n",
      "\n",
      "Inventory Management System\n",
      "1. Add new item\n",
      "2. Display inventory\n",
      "3. Calculate total value\n",
      "4. Exit\n"
     ]
    },
    {
     "name": "stdin",
     "output_type": "stream",
     "text": [
      "Enter your choice:  2\n"
     ]
    },
    {
     "name": "stdout",
     "output_type": "stream",
     "text": [
      "\n",
      "Current Inventory:\n",
      "==================================================\n",
      "Name: Clove, ID: 2230, Quantity: 1, Cost: $8.99, Selling Price: $12.99\n",
      "Name: Cumin seeds, ID: 1, Quantity: 1, Cost: $4.89, Selling Price: $6.99\n",
      "==================================================\n",
      "\n",
      "Inventory Management System\n",
      "1. Add new item\n",
      "2. Display inventory\n",
      "3. Calculate total value\n",
      "4. Exit\n"
     ]
    },
    {
     "name": "stdin",
     "output_type": "stream",
     "text": [
      "Enter your choice:  4\n"
     ]
    },
    {
     "name": "stdout",
     "output_type": "stream",
     "text": [
      "Exiting the program. Goodbye!\n"
     ]
    }
   ],
   "source": [
    "def input_data():\n",
    "    \"\"\"Function to input item details from the user.\"\"\"\n",
    "    item_name = input(\"Enter item name: \")\n",
    "    item_ID = input(\"Enter item ID: \")\n",
    "    item_quantity = int(input(\"Enter item quantity: \"))\n",
    "    item_cost = float(input(\"Enter item cost: $\"))\n",
    "    item_selling_price = float(input(\"Enter item selling price: $\"))\n",
    "\n",
    "    return {\n",
    "        \"Name\": item_name,\n",
    "        \"ID\": item_ID,\n",
    "        \"Quantity\": item_quantity,\n",
    "        \"Cost\": item_cost,\n",
    "        \"Selling Price\": item_selling_price,\n",
    "    }\n",
    "\n",
    "def display_inventory(item_list):\n",
    "    \"\"\"Function to display all items in the inventory.\"\"\"\n",
    "    if not item_list:\n",
    "        print(\"Inventory is empty.\")\n",
    "        return\n",
    "\n",
    "    print(\"\\nCurrent Inventory:\")\n",
    "    print(\"=\" * 50)\n",
    "    for item in item_list:\n",
    "        print(f\"Name: {item['Name']}, ID: {item['ID']}, Quantity: {item['Quantity']}, Cost: ${item['Cost']:.2f}, Selling Price: ${item['Selling Price']:.2f}\")\n",
    "    print(\"=\" * 50)\n",
    "\n",
    "def calculate_total_value(item_list):\n",
    "    \"\"\"Function to calculate total inventory value.\"\"\"\n",
    "    total_value = sum(item['Quantity'] * item['Cost'] for item in item_list)\n",
    "    print(f\"\\nTotal inventory value: ${total_value:.2f}\")\n",
    "\n",
    "# Main code block\n",
    "if __name__ == \"__main__\":\n",
    "    item_list = []\n",
    "\n",
    "    while True:\n",
    "        print(\"\\nInventory Management System\")\n",
    "        print(\"1. Add new item\")\n",
    "        print(\"2. Display inventory\")\n",
    "        print(\"3. Calculate total value\")\n",
    "        print(\"4. Exit\")\n",
    "\n",
    "        choice = input(\"Enter your choice: \")\n",
    "\n",
    "        if choice == \"1\":\n",
    "            item = input_data()\n",
    "            item_list.append(item)\n",
    "            print(\"Item added successfully!\")\n",
    "        elif choice == \"2\":\n",
    "            display_inventory(item_list)\n",
    "        elif choice == \"3\":\n",
    "            calculate_total_value(item_list)\n",
    "        elif choice == \"4\":\n",
    "            print(\"Exiting the program. Goodbye!\")\n",
    "            break\n",
    "        else:\n",
    "            print(\"Invalid choice. Please try again.\")\n"
   ]
  },
  {
   "cell_type": "code",
   "execution_count": null,
   "id": "34406805-5a00-4716-8b2c-561c2482015e",
   "metadata": {},
   "outputs": [],
   "source": []
  }
 ],
 "metadata": {
  "kernelspec": {
   "display_name": "Python 3 (ipykernel)",
   "language": "python",
   "name": "python3"
  },
  "language_info": {
   "codemirror_mode": {
    "name": "ipython",
    "version": 3
   },
   "file_extension": ".py",
   "mimetype": "text/x-python",
   "name": "python",
   "nbconvert_exporter": "python",
   "pygments_lexer": "ipython3",
   "version": "3.12.7"
  }
 },
 "nbformat": 4,
 "nbformat_minor": 5
}
